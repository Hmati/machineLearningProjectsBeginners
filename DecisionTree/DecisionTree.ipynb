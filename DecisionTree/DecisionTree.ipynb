{
 "cells": [
  {
   "cell_type": "markdown",
   "metadata": {},
   "source": [
    "# DECISION TREE CLASSIFIER\n",
    "\n",
    "### [My youtube channel](https://www.youtube.com/channel/UCQf9BYcqr8pzKrY14ZyMsbg?view_as=subscriber)"
   ]
  },
  {
   "cell_type": "markdown",
   "metadata": {},
   "source": [
    "**Decision Tree** is a supervised learning algorithm, that is basically a tress like structured classifier. It is used to deal with both classification and regression problems in machine learning. You can also think of a decision tree as a machine learning algorithm that uses a decision tree to make predictions, you can think of it as so when you are using the term in machine learning land.\n",
    "\n",
    "Main parts of a decision tree include:\n",
    "\n",
    "- Decision nodes\n",
    "    - Parent node\n",
    "    - Child node\n",
    "- Leaf nodes\n",
    "\n",
    "We will go over each of this in detail but first lets look at an example of a situation where decision tree can be applied. Using this example we will look at each of the parts of a decision tree I mentioned earlier.\n",
    "\n",
    "Take an example, you are cleaning your garage and in the process you found some item, you are in a dilemma as to keep the item or get rid of it. So you must make a decisions, so you ask yourself certain questions like, do I still need this? Is it valuable? and from there you can decised whether to keep it or not. The thought process can be represented in a decision tree just like the one below.\n",
    "\n",
    "![Decision Tree Image](https://cdn-images-1.medium.com/max/800/1*6Wc-lqp4EeNVRRgNlmwELA.png)\n",
    "\n",
    "\n",
    "Your first thought is does the item have some value basing on your feeling(sentimental value), if you feel like its valuable you keep it. What if you don't think its valuable? You ask another question, do you need it in the future? if yes then you keep it. What if you don't think you need it in the future. Maybe its expensive, if it is you decise to keep it since its of value right?\n",
    "\n",
    "<img src=\"https://i1.wp.com/www.themantic-education.com/ibpsych/wp-content/uploads/sites/3/2018/11/bigstock-203600683.jpg?fit=900%2C795&ssl=1\" width =\"250\" height=\"250\">\n",
    "\n",
    "This clearly indicates how a decision tree mimics human thought process, from where you can even come up with you own way of definig what a decision tree is. Using the decision tree diagram let's go ahead take a closer look at the different parts of a decision tree.\n",
    "\n",
    "**Root node** Root node is from where the decision tree starts. It represents the entire dataset, which further gets divided into two or more homogeneous sets.\n",
    "\n",
    "**Branches, edges or decision nodes** This extend from the root node or other nodes above it. They ara also called sub trees.\n",
    "\n",
    "**Decisions or leafs nodes** These are the end of a branch that does not split into further branches. They are the outputs of the decision.\n",
    "\n",
    "Take a closer look at this diagram to get a more visual idea of what we have just looked at.\n",
    "\n",
    "<img src=\"https://encrypted-tbn0.gstatic.com/images?q=tbn%3AANd9GcRfWGJRiI29Fh1xhGhE2q3BSs1-3I7AN95jOw&usqp=CAU\" width=\"450\" height=\"450\">\n",
    "\n",
    "### How a decision tree works at a basic level\n",
    "\n",
    "A decision basically asks a question and basing on the answer (Yes or NO), it splits the tree into subtrees untill it reaches a point where no further splits can be made(a leaf node) at ww get a decision.\n",
    "\n",
    "### What algorithm is used to build a decision tree?\n",
    "\n",
    "The CART algoritm is used to construct a decision tree. CART stands for `Classification And Regression Tree`. At this point you might be asking yourself why the word `Regression` is used to name a decision tree algorithm, well decision trees are also used for Regression problems as stated earlier.\n",
    "\n",
    "### Few Terminologies\n",
    "\n",
    "- **splitting**: This is the process of dividing the decision/root/parent node into sub-nodes according to a given condition.\n",
    "\n",
    "- **Pruning**: This is the process of removing unwanted branches from a tree."
   ]
  },
  {
   "cell_type": "markdown",
   "metadata": {},
   "source": [
    "### Attribute Selection\n",
    "\n",
    "From the examples we have seen about deciding to keep or throw away an item was quite straight forward.To select the root node and sub-nodes was quite easy. But how does decision tree algorithm decide the root node and sub-nodes to use? Decision tree algorithms use a technique known as `Attribute Selection Measure ASM`. There are two main ASM used:\n",
    "\n",
    "1. Gini index\n",
    "2. information gained\n",
    "\n",
    "ASM is important since it affects the performance of the model. The decision on which attribute to use first in the decision tree is determined by the gini index and information gain. Basically we want to split the dataset basing on the attributes that will give us the most pure dataset, to quantify the purity of the split and hence be able to decise the order of the attributes we use ASM.\n",
    "\n",
    "### Read about AMSs:\n",
    "\n",
    "[Entropy and information gained](https://towardsdatascience.com/entropy-how-decision-trees-make-decisions-2946b9c18c8)\n",
    "\n",
    "[Gini index](https://medium.com/analytics-steps/understanding-the-gini-index-and-information-gain-in-decision-trees-ab4720518ba8#:~:text=Gini%20Index%2C%20also%20known%20as,it%20can%20be%20called%20pure.)\n",
    "\n",
    "Note: by defualt decision tree classifiers in sklearn use gini(gini index)"
   ]
  },
  {
   "cell_type": "markdown",
   "metadata": {},
   "source": [
    "## Practical Section\n",
    "\n",
    "#### Problem statement:\n",
    "\n",
    "Given the titanic dataset, predict whether a passenger survived basing on the Pclass, sex, age and the fare of the passenger."
   ]
  },
  {
   "cell_type": "code",
   "execution_count": 29,
   "metadata": {},
   "outputs": [],
   "source": [
    "import pandas as pd\n",
    "import numpy as np"
   ]
  },
  {
   "cell_type": "code",
   "execution_count": 30,
   "metadata": {},
   "outputs": [
    {
     "data": {
      "text/html": [
       "<div>\n",
       "<style scoped>\n",
       "    .dataframe tbody tr th:only-of-type {\n",
       "        vertical-align: middle;\n",
       "    }\n",
       "\n",
       "    .dataframe tbody tr th {\n",
       "        vertical-align: top;\n",
       "    }\n",
       "\n",
       "    .dataframe thead th {\n",
       "        text-align: right;\n",
       "    }\n",
       "</style>\n",
       "<table border=\"1\" class=\"dataframe\">\n",
       "  <thead>\n",
       "    <tr style=\"text-align: right;\">\n",
       "      <th></th>\n",
       "      <th>PassengerId</th>\n",
       "      <th>Survived</th>\n",
       "      <th>Pclass</th>\n",
       "      <th>Name</th>\n",
       "      <th>Sex</th>\n",
       "      <th>Age</th>\n",
       "      <th>SibSp</th>\n",
       "      <th>Parch</th>\n",
       "      <th>Ticket</th>\n",
       "      <th>Fare</th>\n",
       "      <th>Cabin</th>\n",
       "      <th>Embarked</th>\n",
       "    </tr>\n",
       "  </thead>\n",
       "  <tbody>\n",
       "    <tr>\n",
       "      <th>0</th>\n",
       "      <td>1</td>\n",
       "      <td>0</td>\n",
       "      <td>3</td>\n",
       "      <td>Braund, Mr. Owen Harris</td>\n",
       "      <td>male</td>\n",
       "      <td>22.0</td>\n",
       "      <td>1</td>\n",
       "      <td>0</td>\n",
       "      <td>A/5 21171</td>\n",
       "      <td>7.2500</td>\n",
       "      <td>NaN</td>\n",
       "      <td>S</td>\n",
       "    </tr>\n",
       "    <tr>\n",
       "      <th>1</th>\n",
       "      <td>2</td>\n",
       "      <td>1</td>\n",
       "      <td>1</td>\n",
       "      <td>Cumings, Mrs. John Bradley (Florence Briggs Th...</td>\n",
       "      <td>female</td>\n",
       "      <td>38.0</td>\n",
       "      <td>1</td>\n",
       "      <td>0</td>\n",
       "      <td>PC 17599</td>\n",
       "      <td>71.2833</td>\n",
       "      <td>C85</td>\n",
       "      <td>C</td>\n",
       "    </tr>\n",
       "    <tr>\n",
       "      <th>2</th>\n",
       "      <td>3</td>\n",
       "      <td>1</td>\n",
       "      <td>3</td>\n",
       "      <td>Heikkinen, Miss. Laina</td>\n",
       "      <td>female</td>\n",
       "      <td>26.0</td>\n",
       "      <td>0</td>\n",
       "      <td>0</td>\n",
       "      <td>STON/O2. 3101282</td>\n",
       "      <td>7.9250</td>\n",
       "      <td>NaN</td>\n",
       "      <td>S</td>\n",
       "    </tr>\n",
       "    <tr>\n",
       "      <th>3</th>\n",
       "      <td>4</td>\n",
       "      <td>1</td>\n",
       "      <td>1</td>\n",
       "      <td>Futrelle, Mrs. Jacques Heath (Lily May Peel)</td>\n",
       "      <td>female</td>\n",
       "      <td>35.0</td>\n",
       "      <td>1</td>\n",
       "      <td>0</td>\n",
       "      <td>113803</td>\n",
       "      <td>53.1000</td>\n",
       "      <td>C123</td>\n",
       "      <td>S</td>\n",
       "    </tr>\n",
       "    <tr>\n",
       "      <th>4</th>\n",
       "      <td>5</td>\n",
       "      <td>0</td>\n",
       "      <td>3</td>\n",
       "      <td>Allen, Mr. William Henry</td>\n",
       "      <td>male</td>\n",
       "      <td>35.0</td>\n",
       "      <td>0</td>\n",
       "      <td>0</td>\n",
       "      <td>373450</td>\n",
       "      <td>8.0500</td>\n",
       "      <td>NaN</td>\n",
       "      <td>S</td>\n",
       "    </tr>\n",
       "  </tbody>\n",
       "</table>\n",
       "</div>"
      ],
      "text/plain": [
       "   PassengerId  Survived  Pclass  \\\n",
       "0            1         0       3   \n",
       "1            2         1       1   \n",
       "2            3         1       3   \n",
       "3            4         1       1   \n",
       "4            5         0       3   \n",
       "\n",
       "                                                Name     Sex   Age  SibSp  \\\n",
       "0                            Braund, Mr. Owen Harris    male  22.0      1   \n",
       "1  Cumings, Mrs. John Bradley (Florence Briggs Th...  female  38.0      1   \n",
       "2                             Heikkinen, Miss. Laina  female  26.0      0   \n",
       "3       Futrelle, Mrs. Jacques Heath (Lily May Peel)  female  35.0      1   \n",
       "4                           Allen, Mr. William Henry    male  35.0      0   \n",
       "\n",
       "   Parch            Ticket     Fare Cabin Embarked  \n",
       "0      0         A/5 21171   7.2500   NaN        S  \n",
       "1      0          PC 17599  71.2833   C85        C  \n",
       "2      0  STON/O2. 3101282   7.9250   NaN        S  \n",
       "3      0            113803  53.1000  C123        S  \n",
       "4      0            373450   8.0500   NaN        S  "
      ]
     },
     "execution_count": 30,
     "metadata": {},
     "output_type": "execute_result"
    }
   ],
   "source": [
    "df = pd.read_csv('titanic.csv')\n",
    "df.head()"
   ]
  },
  {
   "cell_type": "code",
   "execution_count": 31,
   "metadata": {},
   "outputs": [
    {
     "data": {
      "text/html": [
       "<div>\n",
       "<style scoped>\n",
       "    .dataframe tbody tr th:only-of-type {\n",
       "        vertical-align: middle;\n",
       "    }\n",
       "\n",
       "    .dataframe tbody tr th {\n",
       "        vertical-align: top;\n",
       "    }\n",
       "\n",
       "    .dataframe thead th {\n",
       "        text-align: right;\n",
       "    }\n",
       "</style>\n",
       "<table border=\"1\" class=\"dataframe\">\n",
       "  <thead>\n",
       "    <tr style=\"text-align: right;\">\n",
       "      <th></th>\n",
       "      <th>Survived</th>\n",
       "      <th>Pclass</th>\n",
       "      <th>Sex</th>\n",
       "      <th>Age</th>\n",
       "      <th>Fare</th>\n",
       "    </tr>\n",
       "  </thead>\n",
       "  <tbody>\n",
       "    <tr>\n",
       "      <th>0</th>\n",
       "      <td>0</td>\n",
       "      <td>3</td>\n",
       "      <td>male</td>\n",
       "      <td>22.0</td>\n",
       "      <td>7.2500</td>\n",
       "    </tr>\n",
       "    <tr>\n",
       "      <th>1</th>\n",
       "      <td>1</td>\n",
       "      <td>1</td>\n",
       "      <td>female</td>\n",
       "      <td>38.0</td>\n",
       "      <td>71.2833</td>\n",
       "    </tr>\n",
       "    <tr>\n",
       "      <th>2</th>\n",
       "      <td>1</td>\n",
       "      <td>3</td>\n",
       "      <td>female</td>\n",
       "      <td>26.0</td>\n",
       "      <td>7.9250</td>\n",
       "    </tr>\n",
       "    <tr>\n",
       "      <th>3</th>\n",
       "      <td>1</td>\n",
       "      <td>1</td>\n",
       "      <td>female</td>\n",
       "      <td>35.0</td>\n",
       "      <td>53.1000</td>\n",
       "    </tr>\n",
       "    <tr>\n",
       "      <th>4</th>\n",
       "      <td>0</td>\n",
       "      <td>3</td>\n",
       "      <td>male</td>\n",
       "      <td>35.0</td>\n",
       "      <td>8.0500</td>\n",
       "    </tr>\n",
       "    <tr>\n",
       "      <th>...</th>\n",
       "      <td>...</td>\n",
       "      <td>...</td>\n",
       "      <td>...</td>\n",
       "      <td>...</td>\n",
       "      <td>...</td>\n",
       "    </tr>\n",
       "    <tr>\n",
       "      <th>886</th>\n",
       "      <td>0</td>\n",
       "      <td>2</td>\n",
       "      <td>male</td>\n",
       "      <td>27.0</td>\n",
       "      <td>13.0000</td>\n",
       "    </tr>\n",
       "    <tr>\n",
       "      <th>887</th>\n",
       "      <td>1</td>\n",
       "      <td>1</td>\n",
       "      <td>female</td>\n",
       "      <td>19.0</td>\n",
       "      <td>30.0000</td>\n",
       "    </tr>\n",
       "    <tr>\n",
       "      <th>888</th>\n",
       "      <td>0</td>\n",
       "      <td>3</td>\n",
       "      <td>female</td>\n",
       "      <td>NaN</td>\n",
       "      <td>23.4500</td>\n",
       "    </tr>\n",
       "    <tr>\n",
       "      <th>889</th>\n",
       "      <td>1</td>\n",
       "      <td>1</td>\n",
       "      <td>male</td>\n",
       "      <td>26.0</td>\n",
       "      <td>30.0000</td>\n",
       "    </tr>\n",
       "    <tr>\n",
       "      <th>890</th>\n",
       "      <td>0</td>\n",
       "      <td>3</td>\n",
       "      <td>male</td>\n",
       "      <td>32.0</td>\n",
       "      <td>7.7500</td>\n",
       "    </tr>\n",
       "  </tbody>\n",
       "</table>\n",
       "<p>891 rows × 5 columns</p>\n",
       "</div>"
      ],
      "text/plain": [
       "     Survived  Pclass     Sex   Age     Fare\n",
       "0           0       3    male  22.0   7.2500\n",
       "1           1       1  female  38.0  71.2833\n",
       "2           1       3  female  26.0   7.9250\n",
       "3           1       1  female  35.0  53.1000\n",
       "4           0       3    male  35.0   8.0500\n",
       "..        ...     ...     ...   ...      ...\n",
       "886         0       2    male  27.0  13.0000\n",
       "887         1       1  female  19.0  30.0000\n",
       "888         0       3  female   NaN  23.4500\n",
       "889         1       1    male  26.0  30.0000\n",
       "890         0       3    male  32.0   7.7500\n",
       "\n",
       "[891 rows x 5 columns]"
      ]
     },
     "execution_count": 31,
     "metadata": {},
     "output_type": "execute_result"
    }
   ],
   "source": [
    "interest_columns = df[['Survived', 'Pclass', 'Sex', 'Age', 'Fare']]\n",
    "interest_columns"
   ]
  },
  {
   "cell_type": "code",
   "execution_count": 32,
   "metadata": {},
   "outputs": [
    {
     "data": {
      "text/plain": [
       "Survived      0\n",
       "Pclass        0\n",
       "Sex           0\n",
       "Age         177\n",
       "Fare          0\n",
       "dtype: int64"
      ]
     },
     "execution_count": 32,
     "metadata": {},
     "output_type": "execute_result"
    }
   ],
   "source": [
    "pd.isna(interest_columns).sum()"
   ]
  },
  {
   "cell_type": "markdown",
   "metadata": {},
   "source": [
    "## Dealing with missing values\n",
    "\n",
    "From the output above, its clear that some of the information regarding the age of some passengers is missing so we need to perform some feature engineering and fill in those missing data. We will use the mean or median(Middel values) of the age column to fill in the missing ages. Try to see the effect on the score as you use mean and median to fill the missing data. What is your observation."
   ]
  },
  {
   "cell_type": "code",
   "execution_count": 33,
   "metadata": {},
   "outputs": [],
   "source": [
    "from sklearn.impute import SimpleImputer"
   ]
  },
  {
   "cell_type": "code",
   "execution_count": 34,
   "metadata": {},
   "outputs": [
    {
     "name": "stderr",
     "output_type": "stream",
     "text": [
      "/home/prince/.local/lib/python3.7/site-packages/ipykernel_launcher.py:2: SettingWithCopyWarning: \n",
      "A value is trying to be set on a copy of a slice from a DataFrame.\n",
      "Try using .loc[row_indexer,col_indexer] = value instead\n",
      "\n",
      "See the caveats in the documentation: https://pandas.pydata.org/pandas-docs/stable/user_guide/indexing.html#returning-a-view-versus-a-copy\n",
      "  \n"
     ]
    }
   ],
   "source": [
    "imputer = SimpleImputer(missing_values=np.nan, strategy='mean')\n",
    "interest_columns['Age'] = imputer.fit_transform(interest_columns['Age'].values.reshape(-1, 1))"
   ]
  },
  {
   "cell_type": "code",
   "execution_count": 35,
   "metadata": {},
   "outputs": [
    {
     "data": {
      "text/plain": [
       "Survived    0\n",
       "Pclass      0\n",
       "Sex         0\n",
       "Age         0\n",
       "Fare        0\n",
       "dtype: int64"
      ]
     },
     "execution_count": 35,
     "metadata": {},
     "output_type": "execute_result"
    }
   ],
   "source": [
    "pd.isna(interest_columns).sum()"
   ]
  },
  {
   "cell_type": "markdown",
   "metadata": {},
   "source": [
    "Now that we have the missing values fixed, lets create the x_cols and y_cols"
   ]
  },
  {
   "cell_type": "code",
   "execution_count": 36,
   "metadata": {},
   "outputs": [
    {
     "data": {
      "text/html": [
       "<div>\n",
       "<style scoped>\n",
       "    .dataframe tbody tr th:only-of-type {\n",
       "        vertical-align: middle;\n",
       "    }\n",
       "\n",
       "    .dataframe tbody tr th {\n",
       "        vertical-align: top;\n",
       "    }\n",
       "\n",
       "    .dataframe thead th {\n",
       "        text-align: right;\n",
       "    }\n",
       "</style>\n",
       "<table border=\"1\" class=\"dataframe\">\n",
       "  <thead>\n",
       "    <tr style=\"text-align: right;\">\n",
       "      <th></th>\n",
       "      <th>Pclass</th>\n",
       "      <th>Sex</th>\n",
       "      <th>Age</th>\n",
       "      <th>Fare</th>\n",
       "    </tr>\n",
       "  </thead>\n",
       "  <tbody>\n",
       "    <tr>\n",
       "      <th>0</th>\n",
       "      <td>3</td>\n",
       "      <td>male</td>\n",
       "      <td>22.000000</td>\n",
       "      <td>7.2500</td>\n",
       "    </tr>\n",
       "    <tr>\n",
       "      <th>1</th>\n",
       "      <td>1</td>\n",
       "      <td>female</td>\n",
       "      <td>38.000000</td>\n",
       "      <td>71.2833</td>\n",
       "    </tr>\n",
       "    <tr>\n",
       "      <th>2</th>\n",
       "      <td>3</td>\n",
       "      <td>female</td>\n",
       "      <td>26.000000</td>\n",
       "      <td>7.9250</td>\n",
       "    </tr>\n",
       "    <tr>\n",
       "      <th>3</th>\n",
       "      <td>1</td>\n",
       "      <td>female</td>\n",
       "      <td>35.000000</td>\n",
       "      <td>53.1000</td>\n",
       "    </tr>\n",
       "    <tr>\n",
       "      <th>4</th>\n",
       "      <td>3</td>\n",
       "      <td>male</td>\n",
       "      <td>35.000000</td>\n",
       "      <td>8.0500</td>\n",
       "    </tr>\n",
       "    <tr>\n",
       "      <th>...</th>\n",
       "      <td>...</td>\n",
       "      <td>...</td>\n",
       "      <td>...</td>\n",
       "      <td>...</td>\n",
       "    </tr>\n",
       "    <tr>\n",
       "      <th>886</th>\n",
       "      <td>2</td>\n",
       "      <td>male</td>\n",
       "      <td>27.000000</td>\n",
       "      <td>13.0000</td>\n",
       "    </tr>\n",
       "    <tr>\n",
       "      <th>887</th>\n",
       "      <td>1</td>\n",
       "      <td>female</td>\n",
       "      <td>19.000000</td>\n",
       "      <td>30.0000</td>\n",
       "    </tr>\n",
       "    <tr>\n",
       "      <th>888</th>\n",
       "      <td>3</td>\n",
       "      <td>female</td>\n",
       "      <td>29.699118</td>\n",
       "      <td>23.4500</td>\n",
       "    </tr>\n",
       "    <tr>\n",
       "      <th>889</th>\n",
       "      <td>1</td>\n",
       "      <td>male</td>\n",
       "      <td>26.000000</td>\n",
       "      <td>30.0000</td>\n",
       "    </tr>\n",
       "    <tr>\n",
       "      <th>890</th>\n",
       "      <td>3</td>\n",
       "      <td>male</td>\n",
       "      <td>32.000000</td>\n",
       "      <td>7.7500</td>\n",
       "    </tr>\n",
       "  </tbody>\n",
       "</table>\n",
       "<p>891 rows × 4 columns</p>\n",
       "</div>"
      ],
      "text/plain": [
       "     Pclass     Sex        Age     Fare\n",
       "0         3    male  22.000000   7.2500\n",
       "1         1  female  38.000000  71.2833\n",
       "2         3  female  26.000000   7.9250\n",
       "3         1  female  35.000000  53.1000\n",
       "4         3    male  35.000000   8.0500\n",
       "..      ...     ...        ...      ...\n",
       "886       2    male  27.000000  13.0000\n",
       "887       1  female  19.000000  30.0000\n",
       "888       3  female  29.699118  23.4500\n",
       "889       1    male  26.000000  30.0000\n",
       "890       3    male  32.000000   7.7500\n",
       "\n",
       "[891 rows x 4 columns]"
      ]
     },
     "execution_count": 36,
     "metadata": {},
     "output_type": "execute_result"
    }
   ],
   "source": [
    "X_cols = interest_columns[['Pclass', 'Sex', 'Age', 'Fare']]\n",
    "y_cols = interest_columns['Survived']\n",
    "X_cols"
   ]
  },
  {
   "cell_type": "markdown",
   "metadata": {},
   "source": [
    "## Label Encoding\n",
    "\n",
    "From the above output, its clear that we have some categorical data the dataset. Lets use some lable encoding to deal with that knowing that, the models only work with numerical data"
   ]
  },
  {
   "cell_type": "code",
   "execution_count": 37,
   "metadata": {},
   "outputs": [],
   "source": [
    "from sklearn.preprocessing import LabelEncoder"
   ]
  },
  {
   "cell_type": "code",
   "execution_count": 38,
   "metadata": {},
   "outputs": [
    {
     "name": "stderr",
     "output_type": "stream",
     "text": [
      "/home/prince/.local/lib/python3.7/site-packages/ipykernel_launcher.py:2: SettingWithCopyWarning: \n",
      "A value is trying to be set on a copy of a slice from a DataFrame.\n",
      "Try using .loc[row_indexer,col_indexer] = value instead\n",
      "\n",
      "See the caveats in the documentation: https://pandas.pydata.org/pandas-docs/stable/user_guide/indexing.html#returning-a-view-versus-a-copy\n",
      "  \n"
     ]
    },
    {
     "data": {
      "text/html": [
       "<div>\n",
       "<style scoped>\n",
       "    .dataframe tbody tr th:only-of-type {\n",
       "        vertical-align: middle;\n",
       "    }\n",
       "\n",
       "    .dataframe tbody tr th {\n",
       "        vertical-align: top;\n",
       "    }\n",
       "\n",
       "    .dataframe thead th {\n",
       "        text-align: right;\n",
       "    }\n",
       "</style>\n",
       "<table border=\"1\" class=\"dataframe\">\n",
       "  <thead>\n",
       "    <tr style=\"text-align: right;\">\n",
       "      <th></th>\n",
       "      <th>Pclass</th>\n",
       "      <th>Sex</th>\n",
       "      <th>Age</th>\n",
       "      <th>Fare</th>\n",
       "    </tr>\n",
       "  </thead>\n",
       "  <tbody>\n",
       "    <tr>\n",
       "      <th>0</th>\n",
       "      <td>3</td>\n",
       "      <td>1</td>\n",
       "      <td>22.000000</td>\n",
       "      <td>7.2500</td>\n",
       "    </tr>\n",
       "    <tr>\n",
       "      <th>1</th>\n",
       "      <td>1</td>\n",
       "      <td>0</td>\n",
       "      <td>38.000000</td>\n",
       "      <td>71.2833</td>\n",
       "    </tr>\n",
       "    <tr>\n",
       "      <th>2</th>\n",
       "      <td>3</td>\n",
       "      <td>0</td>\n",
       "      <td>26.000000</td>\n",
       "      <td>7.9250</td>\n",
       "    </tr>\n",
       "    <tr>\n",
       "      <th>3</th>\n",
       "      <td>1</td>\n",
       "      <td>0</td>\n",
       "      <td>35.000000</td>\n",
       "      <td>53.1000</td>\n",
       "    </tr>\n",
       "    <tr>\n",
       "      <th>4</th>\n",
       "      <td>3</td>\n",
       "      <td>1</td>\n",
       "      <td>35.000000</td>\n",
       "      <td>8.0500</td>\n",
       "    </tr>\n",
       "    <tr>\n",
       "      <th>...</th>\n",
       "      <td>...</td>\n",
       "      <td>...</td>\n",
       "      <td>...</td>\n",
       "      <td>...</td>\n",
       "    </tr>\n",
       "    <tr>\n",
       "      <th>886</th>\n",
       "      <td>2</td>\n",
       "      <td>1</td>\n",
       "      <td>27.000000</td>\n",
       "      <td>13.0000</td>\n",
       "    </tr>\n",
       "    <tr>\n",
       "      <th>887</th>\n",
       "      <td>1</td>\n",
       "      <td>0</td>\n",
       "      <td>19.000000</td>\n",
       "      <td>30.0000</td>\n",
       "    </tr>\n",
       "    <tr>\n",
       "      <th>888</th>\n",
       "      <td>3</td>\n",
       "      <td>0</td>\n",
       "      <td>29.699118</td>\n",
       "      <td>23.4500</td>\n",
       "    </tr>\n",
       "    <tr>\n",
       "      <th>889</th>\n",
       "      <td>1</td>\n",
       "      <td>1</td>\n",
       "      <td>26.000000</td>\n",
       "      <td>30.0000</td>\n",
       "    </tr>\n",
       "    <tr>\n",
       "      <th>890</th>\n",
       "      <td>3</td>\n",
       "      <td>1</td>\n",
       "      <td>32.000000</td>\n",
       "      <td>7.7500</td>\n",
       "    </tr>\n",
       "  </tbody>\n",
       "</table>\n",
       "<p>891 rows × 4 columns</p>\n",
       "</div>"
      ],
      "text/plain": [
       "     Pclass  Sex        Age     Fare\n",
       "0         3    1  22.000000   7.2500\n",
       "1         1    0  38.000000  71.2833\n",
       "2         3    0  26.000000   7.9250\n",
       "3         1    0  35.000000  53.1000\n",
       "4         3    1  35.000000   8.0500\n",
       "..      ...  ...        ...      ...\n",
       "886       2    1  27.000000  13.0000\n",
       "887       1    0  19.000000  30.0000\n",
       "888       3    0  29.699118  23.4500\n",
       "889       1    1  26.000000  30.0000\n",
       "890       3    1  32.000000   7.7500\n",
       "\n",
       "[891 rows x 4 columns]"
      ]
     },
     "execution_count": 38,
     "metadata": {},
     "output_type": "execute_result"
    }
   ],
   "source": [
    "le_sex = LabelEncoder()\n",
    "X_cols['Sex'] = le_sex.fit_transform(X_cols['Sex'])\n",
    "X_cols"
   ]
  },
  {
   "cell_type": "markdown",
   "metadata": {},
   "source": [
    "## Dataset Splitting\n",
    "\n",
    "Let's split the dataset into training and testing sets"
   ]
  },
  {
   "cell_type": "code",
   "execution_count": 39,
   "metadata": {},
   "outputs": [],
   "source": [
    "from sklearn.model_selection import train_test_split"
   ]
  },
  {
   "cell_type": "code",
   "execution_count": 40,
   "metadata": {},
   "outputs": [],
   "source": [
    "X_train, X_test, y_train, y_test = train_test_split(X_cols, y_cols, train_size=0.8)"
   ]
  },
  {
   "cell_type": "markdown",
   "metadata": {},
   "source": [
    "## Creating and fitting(training) the model"
   ]
  },
  {
   "cell_type": "code",
   "execution_count": 41,
   "metadata": {},
   "outputs": [],
   "source": [
    "from sklearn import tree\n",
    "from matplotlib import pyplot"
   ]
  },
  {
   "cell_type": "code",
   "execution_count": 42,
   "metadata": {},
   "outputs": [],
   "source": [
    "dtree = tree.DecisionTreeClassifier()"
   ]
  },
  {
   "cell_type": "code",
   "execution_count": 43,
   "metadata": {},
   "outputs": [],
   "source": [
    "dtree = dtree.fit(X_train, y_train)"
   ]
  },
  {
   "cell_type": "markdown",
   "metadata": {},
   "source": [
    "## Decision Tree visualization"
   ]
  },
  {
   "cell_type": "code",
   "execution_count": 44,
   "metadata": {},
   "outputs": [
    {
     "data": {
      "text/plain": [
       "[Text(118.56020029840451, 211.7178947368421, 'X[1] <= 0.5\\ngini = 0.47\\nsamples = 712\\nvalue = [443, 269]'),\n",
       " Text(63.136468330134356, 200.2736842105263, 'X[0] <= 2.5\\ngini = 0.407\\nsamples = 253\\nvalue = [72, 181]'),\n",
       " Text(28.756813819577737, 188.82947368421054, 'X[2] <= 2.5\\ngini = 0.129\\nsamples = 130\\nvalue = [9, 121]'),\n",
       " Text(21.206142034548943, 177.38526315789474, 'X[3] <= 88.775\\ngini = 0.5\\nsamples = 2\\nvalue = [1, 1]'),\n",
       " Text(18.63570057581574, 165.94105263157894, 'gini = 0.0\\nsamples = 1\\nvalue = [0, 1]'),\n",
       " Text(23.77658349328215, 165.94105263157894, 'gini = 0.0\\nsamples = 1\\nvalue = [1, 0]'),\n",
       " Text(36.307485604606526, 177.38526315789474, 'X[3] <= 28.856\\ngini = 0.117\\nsamples = 128\\nvalue = [8, 120]'),\n",
       " Text(28.91746641074856, 165.94105263157894, 'X[3] <= 28.231\\ngini = 0.226\\nsamples = 54\\nvalue = [7, 47]'),\n",
       " Text(26.347024952015357, 154.49684210526317, 'X[2] <= 56.0\\ngini = 0.201\\nsamples = 53\\nvalue = [6, 47]'),\n",
       " Text(19.27831094049904, 143.05263157894737, 'X[2] <= 27.5\\ngini = 0.177\\nsamples = 51\\nvalue = [5, 46]'),\n",
       " Text(12.852207293666027, 131.60842105263157, 'X[2] <= 25.5\\ngini = 0.278\\nsamples = 18\\nvalue = [3, 15]'),\n",
       " Text(7.711324376199617, 120.16421052631578, 'X[3] <= 13.396\\ngini = 0.133\\nsamples = 14\\nvalue = [1, 13]'),\n",
       " Text(5.140882917466411, 108.72, 'X[2] <= 22.5\\ngini = 0.444\\nsamples = 3\\nvalue = [1, 2]'),\n",
       " Text(2.5704414587332054, 97.27578947368421, 'gini = 0.0\\nsamples = 2\\nvalue = [0, 2]'),\n",
       " Text(7.711324376199617, 97.27578947368421, 'gini = 0.0\\nsamples = 1\\nvalue = [1, 0]'),\n",
       " Text(10.281765834932822, 108.72, 'gini = 0.0\\nsamples = 11\\nvalue = [0, 11]'),\n",
       " Text(17.993090211132436, 120.16421052631578, 'X[3] <= 17.429\\ngini = 0.5\\nsamples = 4\\nvalue = [2, 2]'),\n",
       " Text(15.422648752399233, 108.72, 'gini = 0.0\\nsamples = 2\\nvalue = [0, 2]'),\n",
       " Text(20.563531669865643, 108.72, 'gini = 0.0\\nsamples = 2\\nvalue = [2, 0]'),\n",
       " Text(25.704414587332053, 131.60842105263157, 'X[2] <= 37.0\\ngini = 0.114\\nsamples = 33\\nvalue = [2, 31]'),\n",
       " Text(23.13397312859885, 120.16421052631578, 'gini = 0.0\\nsamples = 21\\nvalue = [0, 21]'),\n",
       " Text(28.27485604606526, 120.16421052631578, 'X[2] <= 39.5\\ngini = 0.278\\nsamples = 12\\nvalue = [2, 10]'),\n",
       " Text(25.704414587332053, 108.72, 'gini = 0.0\\nsamples = 1\\nvalue = [1, 0]'),\n",
       " Text(30.845297504798467, 108.72, 'X[2] <= 44.5\\ngini = 0.165\\nsamples = 11\\nvalue = [1, 10]'),\n",
       " Text(28.27485604606526, 97.27578947368421, 'X[2] <= 43.0\\ngini = 0.375\\nsamples = 4\\nvalue = [1, 3]'),\n",
       " Text(25.704414587332053, 85.83157894736843, 'gini = 0.0\\nsamples = 2\\nvalue = [0, 2]'),\n",
       " Text(30.845297504798467, 85.83157894736843, 'X[3] <= 26.86\\ngini = 0.5\\nsamples = 2\\nvalue = [1, 1]'),\n",
       " Text(28.27485604606526, 74.38736842105263, 'gini = 0.0\\nsamples = 1\\nvalue = [1, 0]'),\n",
       " Text(33.41573896353167, 74.38736842105263, 'gini = 0.0\\nsamples = 1\\nvalue = [0, 1]'),\n",
       " Text(33.41573896353167, 97.27578947368421, 'gini = 0.0\\nsamples = 7\\nvalue = [0, 7]'),\n",
       " Text(33.41573896353167, 143.05263157894737, 'X[2] <= 57.5\\ngini = 0.5\\nsamples = 2\\nvalue = [1, 1]'),\n",
       " Text(30.845297504798467, 131.60842105263157, 'gini = 0.0\\nsamples = 1\\nvalue = [1, 0]'),\n",
       " Text(35.98618042226487, 131.60842105263157, 'gini = 0.0\\nsamples = 1\\nvalue = [0, 1]'),\n",
       " Text(31.487907869481766, 154.49684210526317, 'gini = 0.0\\nsamples = 1\\nvalue = [1, 0]'),\n",
       " Text(43.69750479846449, 165.94105263157894, 'X[3] <= 149.035\\ngini = 0.027\\nsamples = 74\\nvalue = [1, 73]'),\n",
       " Text(41.127063339731286, 154.49684210526317, 'gini = 0.0\\nsamples = 60\\nvalue = [0, 60]'),\n",
       " Text(46.2679462571977, 154.49684210526317, 'X[3] <= 158.208\\ngini = 0.133\\nsamples = 14\\nvalue = [1, 13]'),\n",
       " Text(43.69750479846449, 143.05263157894737, 'X[2] <= 23.5\\ngini = 0.5\\nsamples = 2\\nvalue = [1, 1]'),\n",
       " Text(41.127063339731286, 131.60842105263157, 'gini = 0.0\\nsamples = 1\\nvalue = [0, 1]'),\n",
       " Text(46.2679462571977, 131.60842105263157, 'gini = 0.0\\nsamples = 1\\nvalue = [1, 0]'),\n",
       " Text(48.8383877159309, 143.05263157894737, 'gini = 0.0\\nsamples = 12\\nvalue = [0, 12]'),\n",
       " Text(97.51612284069098, 188.82947368421054, 'X[3] <= 23.35\\ngini = 0.5\\nsamples = 123\\nvalue = [63, 60]'),\n",
       " Text(75.50671785028791, 177.38526315789474, 'X[3] <= 7.888\\ngini = 0.487\\nsamples = 100\\nvalue = [42, 58]'),\n",
       " Text(53.97927063339731, 165.94105263157894, 'X[3] <= 6.987\\ngini = 0.389\\nsamples = 34\\nvalue = [9, 25]'),\n",
       " Text(51.408829174664106, 154.49684210526317, 'gini = 0.0\\nsamples = 1\\nvalue = [1, 0]'),\n",
       " Text(56.54971209213052, 154.49684210526317, 'X[2] <= 14.5\\ngini = 0.367\\nsamples = 33\\nvalue = [8, 25]'),\n",
       " Text(53.97927063339731, 143.05263157894737, 'gini = 0.0\\nsamples = 1\\nvalue = [1, 0]'),\n",
       " Text(59.120153550863726, 143.05263157894737, 'X[2] <= 30.35\\ngini = 0.342\\nsamples = 32\\nvalue = [7, 25]'),\n",
       " Text(56.54971209213052, 131.60842105263157, 'X[3] <= 7.781\\ngini = 0.312\\nsamples = 31\\nvalue = [6, 25]'),\n",
       " Text(53.97927063339731, 120.16421052631578, 'X[3] <= 7.763\\ngini = 0.375\\nsamples = 24\\nvalue = [6, 18]'),\n",
       " Text(51.408829174664106, 108.72, 'X[3] <= 7.523\\ngini = 0.298\\nsamples = 22\\nvalue = [4, 18]'),\n",
       " Text(48.8383877159309, 97.27578947368421, 'gini = 0.0\\nsamples = 5\\nvalue = [0, 5]'),\n",
       " Text(53.97927063339731, 97.27578947368421, 'X[3] <= 7.64\\ngini = 0.36\\nsamples = 17\\nvalue = [4, 13]'),\n",
       " Text(48.8383877159309, 85.83157894736843, 'X[2] <= 26.35\\ngini = 0.444\\nsamples = 3\\nvalue = [2, 1]'),\n",
       " Text(46.2679462571977, 74.38736842105263, 'gini = 0.0\\nsamples = 1\\nvalue = [0, 1]'),\n",
       " Text(51.408829174664106, 74.38736842105263, 'gini = 0.0\\nsamples = 2\\nvalue = [2, 0]'),\n",
       " Text(59.120153550863726, 85.83157894736843, 'X[3] <= 7.744\\ngini = 0.245\\nsamples = 14\\nvalue = [2, 12]'),\n",
       " Text(56.54971209213052, 74.38736842105263, 'gini = 0.0\\nsamples = 4\\nvalue = [0, 4]'),\n",
       " Text(61.69059500959693, 74.38736842105263, 'X[2] <= 21.5\\ngini = 0.32\\nsamples = 10\\nvalue = [2, 8]'),\n",
       " Text(56.54971209213052, 62.943157894736856, 'X[2] <= 18.5\\ngini = 0.5\\nsamples = 2\\nvalue = [1, 1]'),\n",
       " Text(53.97927063339731, 51.49894736842106, 'gini = 0.0\\nsamples = 1\\nvalue = [0, 1]'),\n",
       " Text(59.120153550863726, 51.49894736842106, 'gini = 0.0\\nsamples = 1\\nvalue = [1, 0]'),\n",
       " Text(66.83147792706335, 62.943157894736856, 'X[2] <= 25.85\\ngini = 0.219\\nsamples = 8\\nvalue = [1, 7]'),\n",
       " Text(64.26103646833013, 51.49894736842106, 'gini = 0.0\\nsamples = 1\\nvalue = [0, 1]'),\n",
       " Text(69.40191938579655, 51.49894736842106, 'gini = 0.245\\nsamples = 7\\nvalue = [1, 6]'),\n",
       " Text(56.54971209213052, 108.72, 'gini = 0.0\\nsamples = 2\\nvalue = [2, 0]'),\n",
       " Text(59.120153550863726, 120.16421052631578, 'gini = 0.0\\nsamples = 7\\nvalue = [0, 7]'),\n",
       " Text(61.69059500959693, 131.60842105263157, 'gini = 0.0\\nsamples = 1\\nvalue = [1, 0]'),\n",
       " Text(97.0341650671785, 165.94105263157894, 'X[3] <= 15.373\\ngini = 0.5\\nsamples = 66\\nvalue = [33, 33]'),\n",
       " Text(79.68368522072937, 154.49684210526317, 'X[2] <= 19.0\\ngini = 0.473\\nsamples = 39\\nvalue = [24, 15]'),\n",
       " Text(71.97236084452975, 143.05263157894737, 'X[3] <= 13.371\\ngini = 0.486\\nsamples = 12\\nvalue = [5, 7]'),\n",
       " Text(66.83147792706335, 131.60842105263157, 'X[2] <= 8.0\\ngini = 0.245\\nsamples = 7\\nvalue = [1, 6]'),\n",
       " Text(64.26103646833013, 120.16421052631578, 'X[3] <= 10.798\\ngini = 0.444\\nsamples = 3\\nvalue = [1, 2]'),\n",
       " Text(61.69059500959693, 108.72, 'gini = 0.0\\nsamples = 1\\nvalue = [1, 0]'),\n",
       " Text(66.83147792706335, 108.72, 'gini = 0.0\\nsamples = 2\\nvalue = [0, 2]'),\n",
       " Text(69.40191938579655, 120.16421052631578, 'gini = 0.0\\nsamples = 4\\nvalue = [0, 4]'),\n",
       " Text(77.11324376199616, 131.60842105263157, 'X[3] <= 14.456\\ngini = 0.32\\nsamples = 5\\nvalue = [4, 1]'),\n",
       " Text(74.54280230326296, 120.16421052631578, 'X[2] <= 14.75\\ngini = 0.444\\nsamples = 3\\nvalue = [2, 1]'),\n",
       " Text(71.97236084452975, 108.72, 'gini = 0.0\\nsamples = 1\\nvalue = [1, 0]'),\n",
       " Text(77.11324376199616, 108.72, 'X[2] <= 16.5\\ngini = 0.5\\nsamples = 2\\nvalue = [1, 1]'),\n",
       " Text(74.54280230326296, 97.27578947368421, 'gini = 0.0\\nsamples = 1\\nvalue = [0, 1]'),\n",
       " Text(79.68368522072937, 97.27578947368421, 'gini = 0.0\\nsamples = 1\\nvalue = [1, 0]'),\n",
       " Text(79.68368522072937, 120.16421052631578, 'gini = 0.0\\nsamples = 2\\nvalue = [2, 0]'),\n",
       " Text(87.39500959692899, 143.05263157894737, 'X[2] <= 25.5\\ngini = 0.417\\nsamples = 27\\nvalue = [19, 8]'),\n",
       " Text(84.82456813819577, 131.60842105263157, 'gini = 0.0\\nsamples = 7\\nvalue = [7, 0]'),\n",
       " Text(89.96545105566219, 131.60842105263157, 'X[2] <= 27.5\\ngini = 0.48\\nsamples = 20\\nvalue = [12, 8]'),\n",
       " Text(87.39500959692899, 120.16421052631578, 'gini = 0.0\\nsamples = 4\\nvalue = [0, 4]'),\n",
       " Text(92.5358925143954, 120.16421052631578, 'X[2] <= 55.0\\ngini = 0.375\\nsamples = 16\\nvalue = [12, 4]'),\n",
       " Text(89.96545105566219, 108.72, 'X[2] <= 29.85\\ngini = 0.32\\nsamples = 15\\nvalue = [12, 3]'),\n",
       " Text(84.82456813819577, 97.27578947368421, 'X[3] <= 14.852\\ngini = 0.18\\nsamples = 10\\nvalue = [9, 1]'),\n",
       " Text(82.25412667946257, 85.83157894736843, 'gini = 0.0\\nsamples = 8\\nvalue = [8, 0]'),\n",
       " Text(87.39500959692899, 85.83157894736843, 'X[2] <= 29.35\\ngini = 0.5\\nsamples = 2\\nvalue = [1, 1]'),\n",
       " Text(84.82456813819577, 74.38736842105263, 'gini = 0.0\\nsamples = 1\\nvalue = [0, 1]'),\n",
       " Text(89.96545105566219, 74.38736842105263, 'gini = 0.0\\nsamples = 1\\nvalue = [1, 0]'),\n",
       " Text(95.1063339731286, 97.27578947368421, 'X[2] <= 34.0\\ngini = 0.48\\nsamples = 5\\nvalue = [3, 2]'),\n",
       " Text(92.5358925143954, 85.83157894736843, 'gini = 0.0\\nsamples = 2\\nvalue = [0, 2]'),\n",
       " Text(97.6767754318618, 85.83157894736843, 'gini = 0.0\\nsamples = 3\\nvalue = [3, 0]'),\n",
       " Text(95.1063339731286, 108.72, 'gini = 0.0\\nsamples = 1\\nvalue = [0, 1]'),\n",
       " Text(114.38464491362764, 154.49684210526317, 'X[3] <= 17.6\\ngini = 0.444\\nsamples = 27\\nvalue = [9, 18]'),\n",
       " Text(105.38809980806143, 143.05263157894737, 'X[2] <= 30.85\\ngini = 0.278\\nsamples = 12\\nvalue = [2, 10]'),\n",
       " Text(100.24721689059501, 131.60842105263157, 'X[3] <= 15.975\\ngini = 0.18\\nsamples = 10\\nvalue = [1, 9]'),\n",
       " Text(97.6767754318618, 120.16421052631578, 'gini = 0.0\\nsamples = 5\\nvalue = [0, 5]'),\n",
       " Text(102.81765834932821, 120.16421052631578, 'X[2] <= 25.0\\ngini = 0.32\\nsamples = 5\\nvalue = [1, 4]'),\n",
       " Text(100.24721689059501, 108.72, 'gini = 0.0\\nsamples = 2\\nvalue = [0, 2]'),\n",
       " Text(105.38809980806143, 108.72, 'X[2] <= 27.85\\ngini = 0.444\\nsamples = 3\\nvalue = [1, 2]'),\n",
       " Text(102.81765834932821, 97.27578947368421, 'gini = 0.0\\nsamples = 1\\nvalue = [1, 0]'),\n",
       " Text(107.95854126679463, 97.27578947368421, 'gini = 0.0\\nsamples = 2\\nvalue = [0, 2]'),\n",
       " Text(110.52898272552783, 131.60842105263157, 'X[2] <= 34.0\\ngini = 0.5\\nsamples = 2\\nvalue = [1, 1]'),\n",
       " Text(107.95854126679463, 120.16421052631578, 'gini = 0.0\\nsamples = 1\\nvalue = [1, 0]'),\n",
       " Text(113.09942418426104, 120.16421052631578, 'gini = 0.0\\nsamples = 1\\nvalue = [0, 1]'),\n",
       " Text(123.38119001919387, 143.05263157894737, 'X[3] <= 21.55\\ngini = 0.498\\nsamples = 15\\nvalue = [7, 8]'),\n",
       " Text(120.81074856046065, 131.60842105263157, 'X[3] <= 18.629\\ngini = 0.463\\nsamples = 11\\nvalue = [7, 4]'),\n",
       " Text(118.24030710172745, 120.16421052631578, 'gini = 0.0\\nsamples = 3\\nvalue = [3, 0]'),\n",
       " Text(123.38119001919387, 120.16421052631578, 'X[3] <= 19.735\\ngini = 0.5\\nsamples = 8\\nvalue = [4, 4]'),\n",
       " Text(120.81074856046065, 108.72, 'gini = 0.0\\nsamples = 3\\nvalue = [0, 3]'),\n",
       " Text(125.95163147792707, 108.72, 'X[3] <= 20.663\\ngini = 0.32\\nsamples = 5\\nvalue = [4, 1]'),\n",
       " Text(123.38119001919387, 97.27578947368421, 'X[2] <= 38.0\\ngini = 0.5\\nsamples = 2\\nvalue = [1, 1]'),\n",
       " Text(120.81074856046065, 85.83157894736843, 'gini = 0.0\\nsamples = 1\\nvalue = [0, 1]'),\n",
       " Text(125.95163147792707, 85.83157894736843, 'gini = 0.0\\nsamples = 1\\nvalue = [1, 0]'),\n",
       " Text(128.52207293666027, 97.27578947368421, 'gini = 0.0\\nsamples = 3\\nvalue = [3, 0]'),\n",
       " Text(125.95163147792707, 131.60842105263157, 'gini = 0.0\\nsamples = 4\\nvalue = [0, 4]'),\n",
       " Text(119.52552783109405, 177.38526315789474, 'X[3] <= 31.331\\ngini = 0.159\\nsamples = 23\\nvalue = [21, 2]'),\n",
       " Text(116.95508637236084, 165.94105263157894, 'gini = 0.0\\nsamples = 15\\nvalue = [15, 0]'),\n",
       " Text(122.09596928982725, 165.94105263157894, 'X[3] <= 32.881\\ngini = 0.375\\nsamples = 8\\nvalue = [6, 2]'),\n",
       " Text(119.52552783109405, 154.49684210526317, 'gini = 0.0\\nsamples = 2\\nvalue = [0, 2]'),\n",
       " Text(124.66641074856047, 154.49684210526317, 'gini = 0.0\\nsamples = 6\\nvalue = [6, 0]'),\n",
       " Text(173.98393226667466, 200.2736842105263, 'X[2] <= 6.5\\ngini = 0.31\\nsamples = 459\\nvalue = [371, 88]'),\n",
       " Text(127.23685220729367, 188.82947368421054, 'X[0] <= 2.5\\ngini = 0.375\\nsamples = 20\\nvalue = [5, 15]'),\n",
       " Text(124.66641074856047, 177.38526315789474, 'gini = 0.0\\nsamples = 9\\nvalue = [0, 9]'),\n",
       " Text(129.80729366602688, 177.38526315789474, 'X[3] <= 20.825\\ngini = 0.496\\nsamples = 11\\nvalue = [5, 6]'),\n",
       " Text(127.23685220729367, 165.94105263157894, 'gini = 0.0\\nsamples = 5\\nvalue = [0, 5]'),\n",
       " Text(132.37773512476008, 165.94105263157894, 'X[3] <= 30.256\\ngini = 0.278\\nsamples = 6\\nvalue = [5, 1]'),\n",
       " Text(129.80729366602688, 154.49684210526317, 'gini = 0.0\\nsamples = 4\\nvalue = [4, 0]'),\n",
       " Text(134.94817658349328, 154.49684210526317, 'X[2] <= 2.5\\ngini = 0.5\\nsamples = 2\\nvalue = [1, 1]'),\n",
       " Text(132.37773512476008, 143.05263157894737, 'gini = 0.0\\nsamples = 1\\nvalue = [1, 0]'),\n",
       " Text(137.51861804222648, 143.05263157894737, 'gini = 0.0\\nsamples = 1\\nvalue = [0, 1]'),\n",
       " Text(220.73101232605566, 188.82947368421054, 'X[0] <= 1.5\\ngini = 0.277\\nsamples = 439\\nvalue = [366, 73]'),\n",
       " Text(160.00998080614204, 177.38526315789474, 'X[3] <= 26.144\\ngini = 0.469\\nsamples = 96\\nvalue = [60, 36]'),\n",
       " Text(157.43953934740884, 165.94105263157894, 'gini = 0.0\\nsamples = 8\\nvalue = [8, 0]'),\n",
       " Text(162.58042226487524, 165.94105263157894, 'X[2] <= 51.5\\ngini = 0.483\\nsamples = 88\\nvalue = [52, 36]'),\n",
       " Text(149.08560460652592, 154.49684210526317, 'X[3] <= 27.135\\ngini = 0.498\\nsamples = 70\\nvalue = [37, 33]'),\n",
       " Text(142.6595009596929, 143.05263157894737, 'X[2] <= 32.35\\ngini = 0.18\\nsamples = 10\\nvalue = [1, 9]'),\n",
       " Text(140.0890595009597, 131.60842105263157, 'X[2] <= 28.85\\ngini = 0.444\\nsamples = 3\\nvalue = [1, 2]'),\n",
       " Text(137.51861804222648, 120.16421052631578, 'gini = 0.0\\nsamples = 1\\nvalue = [0, 1]'),\n",
       " Text(142.6595009596929, 120.16421052631578, 'gini = 0.5\\nsamples = 2\\nvalue = [1, 1]'),\n",
       " Text(145.2299424184261, 131.60842105263157, 'gini = 0.0\\nsamples = 7\\nvalue = [0, 7]'),\n",
       " Text(155.51170825335893, 143.05263157894737, 'X[2] <= 47.5\\ngini = 0.48\\nsamples = 60\\nvalue = [36, 24]'),\n",
       " Text(150.3708253358925, 131.60842105263157, 'X[2] <= 43.0\\ngini = 0.46\\nsamples = 53\\nvalue = [34, 19]'),\n",
       " Text(147.8003838771593, 120.16421052631578, 'X[3] <= 127.817\\ngini = 0.491\\nsamples = 44\\nvalue = [25, 19]'),\n",
       " Text(142.6595009596929, 108.72, 'X[3] <= 86.085\\ngini = 0.5\\nsamples = 37\\nvalue = [19, 18]'),\n",
       " Text(140.0890595009597, 97.27578947368421, 'X[2] <= 27.5\\ngini = 0.482\\nsamples = 32\\nvalue = [19, 13]'),\n",
       " Text(131.7351247600768, 85.83157894736843, 'X[2] <= 22.0\\ngini = 0.408\\nsamples = 7\\nvalue = [2, 5]'),\n",
       " Text(129.16468330134356, 74.38736842105263, 'gini = 0.0\\nsamples = 2\\nvalue = [2, 0]'),\n",
       " Text(134.30556621881, 74.38736842105263, 'gini = 0.0\\nsamples = 5\\nvalue = [0, 5]'),\n",
       " Text(148.4429942418426, 85.83157894736843, 'X[2] <= 36.5\\ngini = 0.435\\nsamples = 25\\nvalue = [17, 8]'),\n",
       " Text(139.44644913627639, 74.38736842105263, 'X[3] <= 37.55\\ngini = 0.375\\nsamples = 20\\nvalue = [15, 5]'),\n",
       " Text(134.30556621881, 62.943157894736856, 'X[3] <= 28.725\\ngini = 0.494\\nsamples = 9\\nvalue = [5, 4]'),\n",
       " Text(131.7351247600768, 51.49894736842106, 'gini = 0.0\\nsamples = 2\\nvalue = [2, 0]'),\n",
       " Text(136.87600767754319, 51.49894736842106, 'X[2] <= 29.35\\ngini = 0.49\\nsamples = 7\\nvalue = [3, 4]'),\n",
       " Text(134.30556621881, 40.05473684210526, 'gini = 0.0\\nsamples = 1\\nvalue = [1, 0]'),\n",
       " Text(139.44644913627639, 40.05473684210526, 'X[3] <= 30.598\\ngini = 0.444\\nsamples = 6\\nvalue = [2, 4]'),\n",
       " Text(136.87600767754319, 28.610526315789485, 'gini = 0.0\\nsamples = 3\\nvalue = [0, 3]'),\n",
       " Text(142.01689059500958, 28.610526315789485, 'X[3] <= 35.25\\ngini = 0.444\\nsamples = 3\\nvalue = [2, 1]'),\n",
       " Text(139.44644913627639, 17.166315789473686, 'gini = 0.0\\nsamples = 2\\nvalue = [2, 0]'),\n",
       " Text(144.5873320537428, 17.166315789473686, 'gini = 0.0\\nsamples = 1\\nvalue = [0, 1]'),\n",
       " Text(144.5873320537428, 62.943157894736856, 'X[3] <= 54.5\\ngini = 0.165\\nsamples = 11\\nvalue = [10, 1]'),\n",
       " Text(142.01689059500958, 51.49894736842106, 'gini = 0.0\\nsamples = 7\\nvalue = [7, 0]'),\n",
       " Text(147.157773512476, 51.49894736842106, 'X[3] <= 61.8\\ngini = 0.375\\nsamples = 4\\nvalue = [3, 1]'),\n",
       " Text(144.5873320537428, 40.05473684210526, 'gini = 0.0\\nsamples = 1\\nvalue = [0, 1]'),\n",
       " Text(149.7282149712092, 40.05473684210526, 'gini = 0.0\\nsamples = 3\\nvalue = [3, 0]'),\n",
       " Text(157.43953934740884, 74.38736842105263, 'X[3] <= 52.277\\ngini = 0.48\\nsamples = 5\\nvalue = [2, 3]'),\n",
       " Text(154.8690978886756, 62.943157894736856, 'X[3] <= 29.36\\ngini = 0.444\\nsamples = 3\\nvalue = [2, 1]'),\n",
       " Text(152.2986564299424, 51.49894736842106, 'gini = 0.0\\nsamples = 1\\nvalue = [1, 0]'),\n",
       " Text(157.43953934740884, 51.49894736842106, 'X[2] <= 41.0\\ngini = 0.5\\nsamples = 2\\nvalue = [1, 1]'),\n",
       " Text(154.8690978886756, 40.05473684210526, 'gini = 0.0\\nsamples = 1\\nvalue = [0, 1]'),\n",
       " Text(160.00998080614204, 40.05473684210526, 'gini = 0.0\\nsamples = 1\\nvalue = [1, 0]'),\n",
       " Text(160.00998080614204, 62.943157894736856, 'gini = 0.0\\nsamples = 2\\nvalue = [0, 2]'),\n",
       " Text(145.2299424184261, 97.27578947368421, 'gini = 0.0\\nsamples = 5\\nvalue = [0, 5]'),\n",
       " Text(152.94126679462573, 108.72, 'X[3] <= 387.665\\ngini = 0.245\\nsamples = 7\\nvalue = [6, 1]'),\n",
       " Text(150.3708253358925, 97.27578947368421, 'gini = 0.0\\nsamples = 6\\nvalue = [6, 0]'),\n",
       " Text(155.51170825335893, 97.27578947368421, 'gini = 0.0\\nsamples = 1\\nvalue = [0, 1]'),\n",
       " Text(152.94126679462573, 120.16421052631578, 'gini = 0.0\\nsamples = 9\\nvalue = [9, 0]'),\n",
       " Text(160.65259117082533, 131.60842105263157, 'X[2] <= 49.5\\ngini = 0.408\\nsamples = 7\\nvalue = [2, 5]'),\n",
       " Text(158.08214971209213, 120.16421052631578, 'gini = 0.0\\nsamples = 4\\nvalue = [0, 4]'),\n",
       " Text(163.22303262955853, 120.16421052631578, 'X[3] <= 97.515\\ngini = 0.444\\nsamples = 3\\nvalue = [2, 1]'),\n",
       " Text(160.65259117082533, 108.72, 'gini = 0.0\\nsamples = 2\\nvalue = [2, 0]'),\n",
       " Text(165.79347408829176, 108.72, 'gini = 0.0\\nsamples = 1\\nvalue = [0, 1]'),\n",
       " Text(176.07523992322456, 154.49684210526317, 'X[2] <= 75.5\\ngini = 0.278\\nsamples = 18\\nvalue = [15, 3]'),\n",
       " Text(173.50479846449136, 143.05263157894737, 'X[2] <= 60.5\\ngini = 0.208\\nsamples = 17\\nvalue = [15, 2]'),\n",
       " Text(170.93435700575816, 131.60842105263157, 'X[3] <= 33.098\\ngini = 0.346\\nsamples = 9\\nvalue = [7, 2]'),\n",
       " Text(168.36391554702496, 120.16421052631578, 'gini = 0.0\\nsamples = 4\\nvalue = [4, 0]'),\n",
       " Text(173.50479846449136, 120.16421052631578, 'X[2] <= 55.0\\ngini = 0.48\\nsamples = 5\\nvalue = [3, 2]'),\n",
       " Text(170.93435700575816, 108.72, 'gini = 0.0\\nsamples = 2\\nvalue = [2, 0]'),\n",
       " Text(176.07523992322456, 108.72, 'X[3] <= 96.237\\ngini = 0.444\\nsamples = 3\\nvalue = [1, 2]'),\n",
       " Text(173.50479846449136, 97.27578947368421, 'gini = 0.0\\nsamples = 2\\nvalue = [0, 2]'),\n",
       " Text(178.6456813819578, 97.27578947368421, 'gini = 0.0\\nsamples = 1\\nvalue = [1, 0]'),\n",
       " Text(176.07523992322456, 131.60842105263157, 'gini = 0.0\\nsamples = 8\\nvalue = [8, 0]'),\n",
       " Text(178.6456813819578, 143.05263157894737, 'gini = 0.0\\nsamples = 1\\nvalue = [0, 1]'),\n",
       " Text(281.4520438459693, 177.38526315789474, 'X[2] <= 9.5\\ngini = 0.192\\nsamples = 343\\nvalue = [306, 37]'),\n",
       " Text(254.58415307101728, 165.94105263157894, 'X[3] <= 24.825\\ngini = 0.49\\nsamples = 7\\nvalue = [4, 3]'),\n",
       " Text(252.01371161228408, 154.49684210526317, 'gini = 0.0\\nsamples = 2\\nvalue = [0, 2]'),\n",
       " Text(257.15459452975045, 154.49684210526317, 'X[0] <= 2.5\\ngini = 0.32\\nsamples = 5\\nvalue = [4, 1]'),\n",
       " Text(254.58415307101728, 143.05263157894737, 'gini = 0.0\\nsamples = 1\\nvalue = [0, 1]'),\n",
       " Text(259.7250359884837, 143.05263157894737, 'gini = 0.0\\nsamples = 4\\nvalue = [4, 0]'),\n",
       " Text(308.3199346209213, 165.94105263157894, 'X[3] <= 51.698\\ngini = 0.182\\nsamples = 336\\nvalue = [302, 34]'),\n",
       " Text(286.980752159309, 154.49684210526317, 'X[2] <= 32.25\\ngini = 0.173\\nsamples = 325\\nvalue = [294, 31]'),\n",
       " Text(264.8659189059501, 143.05263157894737, 'X[2] <= 30.5\\ngini = 0.199\\nsamples = 232\\nvalue = [206, 26]'),\n",
       " Text(248.91110844529751, 131.60842105263157, 'X[3] <= 15.373\\ngini = 0.168\\nsamples = 216\\nvalue = [196, 20]'),\n",
       " Text(234.99457773512475, 120.16421052631578, 'X[3] <= 15.148\\ngini = 0.184\\nsamples = 185\\nvalue = [166, 19]'),\n",
       " Text(232.42413627639155, 108.72, 'X[2] <= 27.5\\ngini = 0.169\\nsamples = 183\\nvalue = [166, 17]'),\n",
       " Text(211.0171785028791, 97.27578947368421, 'X[2] <= 26.5\\ngini = 0.209\\nsamples = 101\\nvalue = [89, 12]'),\n",
       " Text(190.05201535508638, 85.83157894736843, 'X[3] <= 2.006\\ngini = 0.173\\nsamples = 94\\nvalue = [85, 9]'),\n",
       " Text(178.6456813819578, 74.38736842105263, 'X[2] <= 22.0\\ngini = 0.5\\nsamples = 2\\nvalue = [1, 1]'),\n",
       " Text(176.07523992322456, 62.943157894736856, 'gini = 0.0\\nsamples = 1\\nvalue = [1, 0]'),\n",
       " Text(181.21612284069099, 62.943157894736856, 'gini = 0.0\\nsamples = 1\\nvalue = [0, 1]'),\n",
       " Text(201.45834932821498, 74.38736842105263, 'X[2] <= 20.5\\ngini = 0.159\\nsamples = 92\\nvalue = [84, 8]'),\n",
       " Text(186.35700575815738, 62.943157894736856, 'X[3] <= 8.104\\ngini = 0.236\\nsamples = 44\\nvalue = [38, 6]'),\n",
       " Text(174.14740882917468, 51.49894736842106, 'X[3] <= 7.91\\ngini = 0.33\\nsamples = 24\\nvalue = [19, 5]'),\n",
       " Text(165.15086372360844, 40.05473684210526, 'X[2] <= 19.5\\ngini = 0.111\\nsamples = 17\\nvalue = [16, 1]'),\n",
       " Text(162.58042226487524, 28.610526315789485, 'gini = 0.0\\nsamples = 13\\nvalue = [13, 0]'),\n",
       " Text(167.72130518234167, 28.610526315789485, 'X[3] <= 7.14\\ngini = 0.375\\nsamples = 4\\nvalue = [3, 1]'),\n",
       " Text(165.15086372360844, 17.166315789473686, 'gini = 0.0\\nsamples = 2\\nvalue = [2, 0]'),\n",
       " Text(170.29174664107487, 17.166315789473686, 'X[3] <= 7.542\\ngini = 0.5\\nsamples = 2\\nvalue = [1, 1]'),\n",
       " Text(167.72130518234167, 5.722105263157886, 'gini = 0.0\\nsamples = 1\\nvalue = [0, 1]'),\n",
       " Text(172.86218809980807, 5.722105263157886, 'gini = 0.0\\nsamples = 1\\nvalue = [1, 0]'),\n",
       " Text(183.1439539347409, 40.05473684210526, 'X[2] <= 18.5\\ngini = 0.49\\nsamples = 7\\nvalue = [3, 4]'),\n",
       " Text(178.00307101727446, 28.610526315789485, 'X[2] <= 17.0\\ngini = 0.444\\nsamples = 3\\nvalue = [1, 2]'),\n",
       " Text(175.43262955854127, 17.166315789473686, 'gini = 0.5\\nsamples = 2\\nvalue = [1, 1]'),\n",
       " Text(180.5735124760077, 17.166315789473686, 'gini = 0.0\\nsamples = 1\\nvalue = [0, 1]'),\n",
       " Text(188.2848368522073, 28.610526315789485, 'X[3] <= 7.988\\ngini = 0.5\\nsamples = 4\\nvalue = [2, 2]'),\n",
       " Text(185.7143953934741, 17.166315789473686, 'gini = 0.5\\nsamples = 2\\nvalue = [1, 1]'),\n",
       " Text(190.8552783109405, 17.166315789473686, 'gini = 0.5\\nsamples = 2\\nvalue = [1, 1]'),\n",
       " Text(198.56660268714012, 51.49894736842106, 'X[0] <= 2.5\\ngini = 0.095\\nsamples = 20\\nvalue = [19, 1]'),\n",
       " Text(195.99616122840692, 40.05473684210526, 'X[2] <= 18.5\\ngini = 0.245\\nsamples = 7\\nvalue = [6, 1]'),\n",
       " Text(193.42571976967372, 28.610526315789485, 'gini = 0.0\\nsamples = 4\\nvalue = [4, 0]'),\n",
       " Text(198.56660268714012, 28.610526315789485, 'X[3] <= 11.75\\ngini = 0.444\\nsamples = 3\\nvalue = [2, 1]'),\n",
       " Text(195.99616122840692, 17.166315789473686, 'gini = 0.5\\nsamples = 2\\nvalue = [1, 1]'),\n",
       " Text(201.13704414587332, 17.166315789473686, 'gini = 0.0\\nsamples = 1\\nvalue = [1, 0]'),\n",
       " Text(201.13704414587332, 40.05473684210526, 'gini = 0.0\\nsamples = 13\\nvalue = [13, 0]'),\n",
       " Text(216.55969289827254, 62.943157894736856, 'X[3] <= 7.237\\ngini = 0.08\\nsamples = 48\\nvalue = [46, 2]'),\n",
       " Text(208.84836852207295, 51.49894736842106, 'X[3] <= 7.175\\ngini = 0.444\\nsamples = 3\\nvalue = [2, 1]'),\n",
       " Text(206.27792706333975, 40.05473684210526, 'gini = 0.0\\nsamples = 1\\nvalue = [1, 0]'),\n",
       " Text(211.41880998080615, 40.05473684210526, 'X[2] <= 23.5\\ngini = 0.5\\nsamples = 2\\nvalue = [1, 1]'),\n",
       " Text(208.84836852207295, 28.610526315789485, 'gini = 0.0\\nsamples = 1\\nvalue = [0, 1]'),\n",
       " Text(213.98925143953934, 28.610526315789485, 'gini = 0.0\\nsamples = 1\\nvalue = [1, 0]'),\n",
       " Text(224.27101727447217, 51.49894736842106, 'X[3] <= 7.785\\ngini = 0.043\\nsamples = 45\\nvalue = [44, 1]'),\n",
       " Text(221.70057581573897, 40.05473684210526, 'X[3] <= 7.758\\ngini = 0.142\\nsamples = 13\\nvalue = [12, 1]'),\n",
       " Text(219.13013435700577, 28.610526315789485, 'gini = 0.0\\nsamples = 9\\nvalue = [9, 0]'),\n",
       " Text(224.27101727447217, 28.610526315789485, 'X[2] <= 23.0\\ngini = 0.375\\nsamples = 4\\nvalue = [3, 1]'),\n",
       " Text(221.70057581573897, 17.166315789473686, 'gini = 0.0\\nsamples = 1\\nvalue = [1, 0]'),\n",
       " Text(226.84145873320537, 17.166315789473686, 'X[2] <= 25.5\\ngini = 0.444\\nsamples = 3\\nvalue = [2, 1]'),\n",
       " Text(224.27101727447217, 5.722105263157886, 'gini = 0.5\\nsamples = 2\\nvalue = [1, 1]'),\n",
       " Text(229.41190019193857, 5.722105263157886, 'gini = 0.0\\nsamples = 1\\nvalue = [1, 0]'),\n",
       " Text(226.84145873320537, 40.05473684210526, 'gini = 0.0\\nsamples = 32\\nvalue = [32, 0]'),\n",
       " Text(231.9823416506718, 85.83157894736843, 'X[3] <= 10.831\\ngini = 0.49\\nsamples = 7\\nvalue = [4, 3]'),\n",
       " Text(229.41190019193857, 74.38736842105263, 'X[3] <= 7.846\\ngini = 0.375\\nsamples = 4\\nvalue = [1, 3]'),\n",
       " Text(226.84145873320537, 62.943157894736856, 'gini = 0.0\\nsamples = 2\\nvalue = [0, 2]'),\n",
       " Text(231.9823416506718, 62.943157894736856, 'X[3] <= 8.279\\ngini = 0.5\\nsamples = 2\\nvalue = [1, 1]'),\n",
       " Text(229.41190019193857, 51.49894736842106, 'gini = 0.0\\nsamples = 1\\nvalue = [1, 0]'),\n",
       " Text(234.552783109405, 51.49894736842106, 'gini = 0.0\\nsamples = 1\\nvalue = [0, 1]'),\n",
       " Text(234.552783109405, 74.38736842105263, 'gini = 0.0\\nsamples = 3\\nvalue = [3, 0]'),\n",
       " Text(253.83109404990404, 97.27578947368421, 'X[3] <= 9.492\\ngini = 0.115\\nsamples = 82\\nvalue = [77, 5]'),\n",
       " Text(247.40499040307103, 85.83157894736843, 'X[3] <= 7.785\\ngini = 0.059\\nsamples = 66\\nvalue = [64, 2]'),\n",
       " Text(244.83454894433783, 74.38736842105263, 'X[3] <= 7.763\\ngini = 0.111\\nsamples = 34\\nvalue = [32, 2]'),\n",
       " Text(242.2641074856046, 62.943157894736856, 'X[3] <= 7.744\\ngini = 0.061\\nsamples = 32\\nvalue = [31, 1]'),\n",
       " Text(239.6936660268714, 51.49894736842106, 'gini = 0.0\\nsamples = 23\\nvalue = [23, 0]'),\n",
       " Text(244.83454894433783, 51.49894736842106, 'gini = 0.198\\nsamples = 9\\nvalue = [8, 1]'),\n",
       " Text(247.40499040307103, 62.943157894736856, 'gini = 0.5\\nsamples = 2\\nvalue = [1, 1]'),\n",
       " Text(249.97543186180422, 74.38736842105263, 'gini = 0.0\\nsamples = 32\\nvalue = [32, 0]'),\n",
       " Text(260.257197696737, 85.83157894736843, 'X[3] <= 10.0\\ngini = 0.305\\nsamples = 16\\nvalue = [13, 3]'),\n",
       " Text(255.11631477927062, 74.38736842105263, 'X[2] <= 28.5\\ngini = 0.48\\nsamples = 5\\nvalue = [3, 2]'),\n",
       " Text(252.54587332053742, 62.943157894736856, 'gini = 0.0\\nsamples = 2\\nvalue = [2, 0]'),\n",
       " Text(257.68675623800385, 62.943157894736856, 'X[2] <= 29.35\\ngini = 0.444\\nsamples = 3\\nvalue = [1, 2]'),\n",
       " Text(255.11631477927062, 51.49894736842106, 'gini = 0.0\\nsamples = 1\\nvalue = [0, 1]'),\n",
       " Text(260.257197696737, 51.49894736842106, 'X[2] <= 29.85\\ngini = 0.5\\nsamples = 2\\nvalue = [1, 1]'),\n",
       " Text(257.68675623800385, 40.05473684210526, 'gini = 0.0\\nsamples = 1\\nvalue = [1, 0]'),\n",
       " Text(262.82763915547025, 40.05473684210526, 'gini = 0.0\\nsamples = 1\\nvalue = [0, 1]'),\n",
       " Text(265.3980806142035, 74.38736842105263, 'X[3] <= 13.681\\ngini = 0.165\\nsamples = 11\\nvalue = [10, 1]'),\n",
       " Text(262.82763915547025, 62.943157894736856, 'gini = 0.0\\nsamples = 7\\nvalue = [7, 0]'),\n",
       " Text(267.96852207293665, 62.943157894736856, 'X[3] <= 14.16\\ngini = 0.375\\nsamples = 4\\nvalue = [3, 1]'),\n",
       " Text(265.3980806142035, 51.49894736842106, 'gini = 0.0\\nsamples = 1\\nvalue = [0, 1]'),\n",
       " Text(270.5389635316699, 51.49894736842106, 'gini = 0.0\\nsamples = 3\\nvalue = [3, 0]'),\n",
       " Text(237.56501919385798, 108.72, 'gini = 0.0\\nsamples = 2\\nvalue = [0, 2]'),\n",
       " Text(262.82763915547025, 120.16421052631578, 'X[2] <= 29.35\\ngini = 0.062\\nsamples = 31\\nvalue = [30, 1]'),\n",
       " Text(260.257197696737, 108.72, 'gini = 0.0\\nsamples = 21\\nvalue = [21, 0]'),\n",
       " Text(265.3980806142035, 108.72, 'X[3] <= 22.465\\ngini = 0.18\\nsamples = 10\\nvalue = [9, 1]'),\n",
       " Text(262.82763915547025, 97.27578947368421, 'gini = 0.0\\nsamples = 6\\nvalue = [6, 0]'),\n",
       " Text(267.96852207293665, 97.27578947368421, 'X[3] <= 23.35\\ngini = 0.375\\nsamples = 4\\nvalue = [3, 1]'),\n",
       " Text(265.3980806142035, 85.83157894736843, 'gini = 0.0\\nsamples = 1\\nvalue = [0, 1]'),\n",
       " Text(270.5389635316699, 85.83157894736843, 'gini = 0.0\\nsamples = 3\\nvalue = [3, 0]'),\n",
       " Text(280.8207293666027, 131.60842105263157, 'X[3] <= 7.815\\ngini = 0.469\\nsamples = 16\\nvalue = [10, 6]'),\n",
       " Text(278.2502879078695, 120.16421052631578, 'gini = 0.0\\nsamples = 3\\nvalue = [3, 0]'),\n",
       " Text(283.3911708253359, 120.16421052631578, 'X[3] <= 8.206\\ngini = 0.497\\nsamples = 13\\nvalue = [7, 6]'),\n",
       " Text(275.6798464491363, 108.72, 'X[2] <= 31.5\\ngini = 0.444\\nsamples = 6\\nvalue = [2, 4]'),\n",
       " Text(273.10940499040305, 97.27578947368421, 'gini = 0.0\\nsamples = 1\\nvalue = [0, 1]'),\n",
       " Text(278.2502879078695, 97.27578947368421, 'X[3] <= 7.89\\ngini = 0.48\\nsamples = 5\\nvalue = [2, 3]'),\n",
       " Text(275.6798464491363, 85.83157894736843, 'gini = 0.0\\nsamples = 1\\nvalue = [0, 1]'),\n",
       " Text(280.8207293666027, 85.83157894736843, 'X[3] <= 7.988\\ngini = 0.5\\nsamples = 4\\nvalue = [2, 2]'),\n",
       " Text(278.2502879078695, 74.38736842105263, 'gini = 0.444\\nsamples = 3\\nvalue = [2, 1]'),\n",
       " Text(283.3911708253359, 74.38736842105263, 'gini = 0.0\\nsamples = 1\\nvalue = [0, 1]'),\n",
       " Text(291.10249520153553, 108.72, 'X[3] <= 11.75\\ngini = 0.408\\nsamples = 7\\nvalue = [5, 2]'),\n",
       " Text(288.5320537428023, 97.27578947368421, 'gini = 0.0\\nsamples = 3\\nvalue = [3, 0]'),\n",
       " Text(293.6729366602687, 97.27578947368421, 'X[0] <= 2.5\\ngini = 0.5\\nsamples = 4\\nvalue = [2, 2]'),\n",
       " Text(291.10249520153553, 85.83157894736843, 'X[3] <= 31.502\\ngini = 0.444\\nsamples = 3\\nvalue = [1, 2]'),\n",
       " Text(288.5320537428023, 74.38736842105263, 'gini = 0.0\\nsamples = 2\\nvalue = [0, 2]'),\n",
       " Text(293.6729366602687, 74.38736842105263, 'gini = 0.0\\nsamples = 1\\nvalue = [1, 0]'),\n",
       " Text(296.24337811900193, 85.83157894736843, 'gini = 0.0\\nsamples = 1\\nvalue = [1, 0]'),\n",
       " Text(309.09558541266796, 143.05263157894737, 'X[2] <= 38.5\\ngini = 0.102\\nsamples = 93\\nvalue = [88, 5]'),\n",
       " Text(306.52514395393473, 131.60842105263157, 'gini = 0.0\\nsamples = 38\\nvalue = [38, 0]'),\n",
       " Text(311.66602687140113, 131.60842105263157, 'X[2] <= 45.25\\ngini = 0.165\\nsamples = 55\\nvalue = [50, 5]'),\n",
       " Text(306.52514395393473, 120.16421052631578, 'X[3] <= 13.554\\ngini = 0.278\\nsamples = 24\\nvalue = [20, 4]'),\n",
       " Text(303.95470249520156, 108.72, 'X[3] <= 7.91\\ngini = 0.375\\nsamples = 16\\nvalue = [12, 4]'),\n",
       " Text(301.38426103646833, 97.27578947368421, 'gini = 0.0\\nsamples = 5\\nvalue = [5, 0]'),\n",
       " Text(306.52514395393473, 97.27578947368421, 'X[2] <= 44.5\\ngini = 0.463\\nsamples = 11\\nvalue = [7, 4]'),\n",
       " Text(303.95470249520156, 85.83157894736843, 'X[3] <= 7.988\\ngini = 0.42\\nsamples = 10\\nvalue = [7, 3]'),\n",
       " Text(298.8138195777351, 74.38736842105263, 'X[2] <= 41.5\\ngini = 0.444\\nsamples = 3\\nvalue = [1, 2]'),\n",
       " Text(296.24337811900193, 62.943157894736856, 'gini = 0.5\\nsamples = 2\\nvalue = [1, 1]'),\n",
       " Text(301.38426103646833, 62.943157894736856, 'gini = 0.0\\nsamples = 1\\nvalue = [0, 1]'),\n",
       " Text(309.09558541266796, 74.38736842105263, 'X[3] <= 10.831\\ngini = 0.245\\nsamples = 7\\nvalue = [6, 1]'),\n",
       " Text(306.52514395393473, 62.943157894736856, 'gini = 0.0\\nsamples = 4\\nvalue = [4, 0]'),\n",
       " Text(311.66602687140113, 62.943157894736856, 'X[2] <= 40.5\\ngini = 0.444\\nsamples = 3\\nvalue = [2, 1]'),\n",
       " Text(309.09558541266796, 51.49894736842106, 'gini = 0.0\\nsamples = 1\\nvalue = [1, 0]'),\n",
       " Text(314.23646833013436, 51.49894736842106, 'gini = 0.5\\nsamples = 2\\nvalue = [1, 1]'),\n",
       " Text(309.09558541266796, 85.83157894736843, 'gini = 0.0\\nsamples = 1\\nvalue = [0, 1]'),\n",
       " Text(309.09558541266796, 108.72, 'gini = 0.0\\nsamples = 8\\nvalue = [8, 0]'),\n",
       " Text(316.8069097888676, 120.16421052631578, 'X[2] <= 61.5\\ngini = 0.062\\nsamples = 31\\nvalue = [30, 1]'),\n",
       " Text(314.23646833013436, 108.72, 'gini = 0.0\\nsamples = 25\\nvalue = [25, 0]'),\n",
       " Text(319.37735124760076, 108.72, 'X[2] <= 63.5\\ngini = 0.278\\nsamples = 6\\nvalue = [5, 1]'),\n",
       " Text(316.8069097888676, 97.27578947368421, 'gini = 0.0\\nsamples = 1\\nvalue = [0, 1]'),\n",
       " Text(321.947792706334, 97.27578947368421, 'gini = 0.0\\nsamples = 5\\nvalue = [5, 0]'),\n",
       " Text(329.6591170825336, 154.49684210526317, 'X[3] <= 63.023\\ngini = 0.397\\nsamples = 11\\nvalue = [8, 3]'),\n",
       " Text(327.0886756238004, 143.05263157894737, 'X[2] <= 30.85\\ngini = 0.48\\nsamples = 5\\nvalue = [2, 3]'),\n",
       " Text(324.51823416506716, 131.60842105263157, 'X[2] <= 27.0\\ngini = 0.444\\nsamples = 3\\nvalue = [2, 1]'),\n",
       " Text(321.947792706334, 120.16421052631578, 'gini = 0.0\\nsamples = 1\\nvalue = [0, 1]'),\n",
       " Text(327.0886756238004, 120.16421052631578, 'gini = 0.0\\nsamples = 2\\nvalue = [2, 0]'),\n",
       " Text(329.6591170825336, 131.60842105263157, 'gini = 0.0\\nsamples = 2\\nvalue = [0, 2]'),\n",
       " Text(332.2295585412668, 143.05263157894737, 'gini = 0.0\\nsamples = 6\\nvalue = [6, 0]')]"
      ]
     },
     "execution_count": 44,
     "metadata": {},
     "output_type": "execute_result"
    },
    {
     "data": {
      "image/png": "[encoded data removed]",
      "text/plain": [
       "<Figure size 432x288 with 1 Axes>"
      ]
     },
     "metadata": {
      "needs_background": "light"
     },
     "output_type": "display_data"
    }
   ],
   "source": [
    "tree.plot_tree(dtree)"
   ]
  },
  {
   "cell_type": "markdown",
   "metadata": {},
   "source": [
    "## Model evaluation"
   ]
  },
  {
   "cell_type": "code",
   "execution_count": 45,
   "metadata": {},
   "outputs": [
    {
     "data": {
      "text/plain": [
       "0.9831460674157303"
      ]
     },
     "execution_count": 45,
     "metadata": {},
     "output_type": "execute_result"
    }
   ],
   "source": [
    "dtree.score(X_train, y_train)"
   ]
  },
  {
   "cell_type": "code",
   "execution_count": 46,
   "metadata": {},
   "outputs": [
    {
     "data": {
      "text/plain": [
       "0.7932960893854749"
      ]
     },
     "execution_count": 46,
     "metadata": {},
     "output_type": "execute_result"
    }
   ],
   "source": [
    "dtree.score(X_test, y_test)"
   ]
  },
  {
   "cell_type": "markdown",
   "metadata": {},
   "source": [
    "## Making predictions"
   ]
  },
  {
   "cell_type": "code",
   "execution_count": 47,
   "metadata": {},
   "outputs": [
    {
     "data": {
      "text/html": [
       "<div>\n",
       "<style scoped>\n",
       "    .dataframe tbody tr th:only-of-type {\n",
       "        vertical-align: middle;\n",
       "    }\n",
       "\n",
       "    .dataframe tbody tr th {\n",
       "        vertical-align: top;\n",
       "    }\n",
       "\n",
       "    .dataframe thead th {\n",
       "        text-align: right;\n",
       "    }\n",
       "</style>\n",
       "<table border=\"1\" class=\"dataframe\">\n",
       "  <thead>\n",
       "    <tr style=\"text-align: right;\">\n",
       "      <th></th>\n",
       "      <th>Pclass</th>\n",
       "      <th>Sex</th>\n",
       "      <th>Age</th>\n",
       "      <th>Fare</th>\n",
       "    </tr>\n",
       "  </thead>\n",
       "  <tbody>\n",
       "    <tr>\n",
       "      <th>131</th>\n",
       "      <td>3</td>\n",
       "      <td>1</td>\n",
       "      <td>20.000000</td>\n",
       "      <td>7.0500</td>\n",
       "    </tr>\n",
       "    <tr>\n",
       "      <th>811</th>\n",
       "      <td>3</td>\n",
       "      <td>1</td>\n",
       "      <td>39.000000</td>\n",
       "      <td>24.1500</td>\n",
       "    </tr>\n",
       "    <tr>\n",
       "      <th>221</th>\n",
       "      <td>2</td>\n",
       "      <td>1</td>\n",
       "      <td>27.000000</td>\n",
       "      <td>13.0000</td>\n",
       "    </tr>\n",
       "    <tr>\n",
       "      <th>467</th>\n",
       "      <td>1</td>\n",
       "      <td>1</td>\n",
       "      <td>56.000000</td>\n",
       "      <td>26.5500</td>\n",
       "    </tr>\n",
       "    <tr>\n",
       "      <th>824</th>\n",
       "      <td>3</td>\n",
       "      <td>1</td>\n",
       "      <td>2.000000</td>\n",
       "      <td>39.6875</td>\n",
       "    </tr>\n",
       "    <tr>\n",
       "      <th>...</th>\n",
       "      <td>...</td>\n",
       "      <td>...</td>\n",
       "      <td>...</td>\n",
       "      <td>...</td>\n",
       "    </tr>\n",
       "    <tr>\n",
       "      <th>347</th>\n",
       "      <td>3</td>\n",
       "      <td>0</td>\n",
       "      <td>29.699118</td>\n",
       "      <td>16.1000</td>\n",
       "    </tr>\n",
       "    <tr>\n",
       "      <th>316</th>\n",
       "      <td>2</td>\n",
       "      <td>0</td>\n",
       "      <td>24.000000</td>\n",
       "      <td>26.0000</td>\n",
       "    </tr>\n",
       "    <tr>\n",
       "      <th>56</th>\n",
       "      <td>2</td>\n",
       "      <td>0</td>\n",
       "      <td>21.000000</td>\n",
       "      <td>10.5000</td>\n",
       "    </tr>\n",
       "    <tr>\n",
       "      <th>476</th>\n",
       "      <td>2</td>\n",
       "      <td>1</td>\n",
       "      <td>34.000000</td>\n",
       "      <td>21.0000</td>\n",
       "    </tr>\n",
       "    <tr>\n",
       "      <th>463</th>\n",
       "      <td>2</td>\n",
       "      <td>1</td>\n",
       "      <td>48.000000</td>\n",
       "      <td>13.0000</td>\n",
       "    </tr>\n",
       "  </tbody>\n",
       "</table>\n",
       "<p>712 rows × 4 columns</p>\n",
       "</div>"
      ],
      "text/plain": [
       "     Pclass  Sex        Age     Fare\n",
       "131       3    1  20.000000   7.0500\n",
       "811       3    1  39.000000  24.1500\n",
       "221       2    1  27.000000  13.0000\n",
       "467       1    1  56.000000  26.5500\n",
       "824       3    1   2.000000  39.6875\n",
       "..      ...  ...        ...      ...\n",
       "347       3    0  29.699118  16.1000\n",
       "316       2    0  24.000000  26.0000\n",
       "56        2    0  21.000000  10.5000\n",
       "476       2    1  34.000000  21.0000\n",
       "463       2    1  48.000000  13.0000\n",
       "\n",
       "[712 rows x 4 columns]"
      ]
     },
     "execution_count": 47,
     "metadata": {},
     "output_type": "execute_result"
    }
   ],
   "source": [
    "X_train"
   ]
  },
  {
   "cell_type": "code",
   "execution_count": 48,
   "metadata": {},
   "outputs": [
    {
     "data": {
      "text/plain": [
       "131    0\n",
       "811    0\n",
       "221    0\n",
       "467    0\n",
       "824    0\n",
       "      ..\n",
       "347    1\n",
       "316    1\n",
       "56     1\n",
       "476    0\n",
       "463    0\n",
       "Name: Survived, Length: 712, dtype: int64"
      ]
     },
     "execution_count": 48,
     "metadata": {},
     "output_type": "execute_result"
    }
   ],
   "source": [
    "y_train"
   ]
  },
  {
   "cell_type": "code",
   "execution_count": 49,
   "metadata": {},
   "outputs": [
    {
     "data": {
      "text/plain": [
       "array([1])"
      ]
     },
     "execution_count": 49,
     "metadata": {},
     "output_type": "execute_result"
    }
   ],
   "source": [
    "dtree.predict([[2, 0, 19, 26]])"
   ]
  },
  {
   "cell_type": "code",
   "execution_count": 50,
   "metadata": {},
   "outputs": [
    {
     "data": {
      "text/plain": [
       "array([0])"
      ]
     },
     "execution_count": 50,
     "metadata": {},
     "output_type": "execute_result"
    }
   ],
   "source": [
    "dtree.predict([[3, 1, 22, 7.25]])"
   ]
  },
  {
   "cell_type": "code",
   "execution_count": 51,
   "metadata": {},
   "outputs": [
    {
     "data": {
      "text/plain": [
       "array([0])"
      ]
     },
     "execution_count": 51,
     "metadata": {},
     "output_type": "execute_result"
    }
   ],
   "source": [
    "dtree.predict([[3, 1, 28, 16]])"
   ]
  },
  {
   "cell_type": "markdown",
   "metadata": {},
   "source": [
    "## Confusion matrix"
   ]
  },
  {
   "cell_type": "code",
   "execution_count": 52,
   "metadata": {},
   "outputs": [],
   "source": [
    "from sklearn import metrics"
   ]
  },
  {
   "cell_type": "code",
   "execution_count": 53,
   "metadata": {},
   "outputs": [
    {
     "data": {
      "text/plain": [
       "array([[92, 14],\n",
       "       [23, 50]])"
      ]
     },
     "execution_count": 53,
     "metadata": {},
     "output_type": "execute_result"
    }
   ],
   "source": [
    "cm = metrics.confusion_matrix(y_test, dtree.predict(X_test))\n",
    "cm"
   ]
  },
  {
   "cell_type": "code",
   "execution_count": 54,
   "metadata": {},
   "outputs": [],
   "source": [
    "import seaborn as sn\n",
    "from matplotlib import pyplot as plt"
   ]
  },
  {
   "cell_type": "code",
   "execution_count": 55,
   "metadata": {},
   "outputs": [
    {
     "data": {
      "image/png": "[encoded data removed]",
      "text/plain": [
       "<Figure size 864x504 with 2 Axes>"
      ]
     },
     "metadata": {
      "needs_background": "light"
     },
     "output_type": "display_data"
    }
   ],
   "source": [
    "plt.figure(figsize=(12, 7))\n",
    "sn.heatmap(cm, annot=True)\n",
    "plt.ylabel(\"Truth\")\n",
    "plt.xlabel('Predictions')\n",
    "plt.show()"
   ]
  },
  {
   "cell_type": "markdown",
   "metadata": {},
   "source": [
    "Hope this was helpfull to you if yes, consider subscribing to [my youtube channel](https://www.youtube.com/channel/UCQf9BYcqr8pzKrY14ZyMsbg?view_as=subscriber). Thanks"
   ]
  }
 ],
 "metadata": {
  "kernelspec": {
   "display_name": "Python 3",
   "language": "python",
   "name": "python3"
  },
  "language_info": {
   "codemirror_mode": {
    "name": "ipython",
    "version": 3
   },
   "file_extension": ".py",
   "mimetype": "text/x-python",
   "name": "python",
   "nbconvert_exporter": "python",
   "pygments_lexer": "ipython3",
   "version": "3.7.5"
  }
 },
 "nbformat": 4,
 "nbformat_minor": 4
}
